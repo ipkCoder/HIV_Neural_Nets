{
 "metadata": {
  "name": "",
  "signature": "sha256:9cb6e3859075a79e122b059d48a156b8b504a2d37e8e5baf50752be20c7f7ab7"
 },
 "nbformat": 3,
 "nbformat_minor": 0,
 "worksheets": [
  {
   "cells": [
    {
     "cell_type": "code",
     "collapsed": false,
     "input": [
      "import numpy as np\n",
      "import pandas as pd\n",
      "import matplotlib.pyplot as plt"
     ],
     "language": "python",
     "metadata": {},
     "outputs": [],
     "prompt_number": 150
    },
    {
     "cell_type": "code",
     "collapsed": false,
     "input": [
      "rp = pd.read_csv(\"d.csv\", header=0)\n",
      "\n",
      "n = len(rp)\n",
      "\n",
      "#get index values for \n",
      "indexes = [rp.columns.get_loc(idx) for idx in rp.ix[:, 'y_Train':'yHat_Test'].columns.values]"
     ],
     "language": "python",
     "metadata": {},
     "outputs": [],
     "prompt_number": 178
    },
    {
     "cell_type": "code",
     "collapsed": false,
     "input": [
      "def reformatTargetsPred(field):\n",
      "    return field.strip(\"[] \").split(\",\")\n",
      "\n",
      "def reformatDescriptors(field):\n",
      "    return field.strip(\"[]\").split()\n",
      "\n",
      "rp.ix[:, 'Descriptor ID'] = rp.ix[:, 'Descriptor ID'].map(reformatDescriptors)\n",
      "rp.ix[:, 'y_Train':'yHat_Test']= rp.ix[:, 'y_Train':'yHat_Test'].applymap(reformatTargetsPred)"
     ],
     "language": "python",
     "metadata": {},
     "outputs": [],
     "prompt_number": 179
    },
    {
     "cell_type": "code",
     "collapsed": false,
     "input": [
      "fig = plt.figure()\n",
      "ax = fig.add_subplot(111)\n",
      "ax.scatter(rp.ix[0, 'y_Train'], rp.ix[0, 'yHat_Train'], c='r', marker='o')\n",
      "ax.scatter(rp.ix[0, 'y_Train'], rp.ix[0, 'yHat_CV'], c='k', marker='^')\n",
      "ax.set_xlabel('Actual')\n",
      "ax.set_ylabel('Pred')\n",
      "plt.show()"
     ],
     "language": "python",
     "metadata": {},
     "outputs": [
      {
       "metadata": {},
       "output_type": "display_data",
       "png": "[encoded data removed]",
       "text": [
        "<matplotlib.figure.Figure at 0x110bedd90>"
       ]
      }
     ],
     "prompt_number": 182
    },
    {
     "cell_type": "code",
     "collapsed": false,
     "input": [],
     "language": "python",
     "metadata": {},
     "outputs": []
    }
   ],
   "metadata": {}
  }
 ]
}